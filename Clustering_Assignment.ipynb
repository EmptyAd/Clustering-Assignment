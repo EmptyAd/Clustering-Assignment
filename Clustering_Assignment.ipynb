{
  "nbformat": 4,
  "nbformat_minor": 0,
  "metadata": {
    "colab": {
      "provenance": [],
      "authorship_tag": "ABX9TyOFddrcdJ70jABQ0bOStqRa",
      "include_colab_link": true
    },
    "kernelspec": {
      "name": "python3",
      "display_name": "Python 3"
    },
    "language_info": {
      "name": "python"
    }
  },
  "cells": [
    {
      "cell_type": "markdown",
      "metadata": {
        "id": "view-in-github",
        "colab_type": "text"
      },
      "source": [
        "<a href=\"https://colab.research.google.com/github/EmptyAd/Clustering-Assignment/blob/main/Clustering_Assignment.ipynb\" target=\"_parent\"><img src=\"https://colab.research.google.com/assets/colab-badge.svg\" alt=\"Open In Colab\"/></a>"
      ]
    },
    {
      "cell_type": "code",
      "execution_count": 1,
      "metadata": {
        "id": "FrTlhyfOjdT0"
      },
      "outputs": [],
      "source": [
        "import numpy as np\n",
        "import pandas as pd\n",
        "from sklearn import datasets\n",
        "from sklearn.preprocessing import StandardScaler, MinMaxScaler\n",
        "from sklearn.decomposition import PCA\n",
        "from sklearn.cluster import KMeans, AgglomerativeClustering, MeanShift\n",
        "from sklearn.metrics import silhouette_score, calinski_harabasz_score, davies_bouldin_score"
      ]
    },
    {
      "cell_type": "code",
      "source": [
        "import pandas as pd\n",
        "\n",
        "url = \"https://archive.ics.uci.edu/ml/machine-learning-databases/wine-quality/winequality-red.csv\"\n",
        "X = pd.read_csv(url, sep=';')\n",
        "\n",
        "X = X.drop(columns='quality')\n",
        "\n",
        "print(X.columns)\n"
      ],
      "metadata": {
        "colab": {
          "base_uri": "https://localhost:8080/"
        },
        "id": "e9iD1-ArkHZ_",
        "outputId": "5dccc27c-33ce-4e84-e4f8-705a951d9414"
      },
      "execution_count": 2,
      "outputs": [
        {
          "output_type": "stream",
          "name": "stdout",
          "text": [
            "Index(['fixed acidity', 'volatile acidity', 'citric acid', 'residual sugar',\n",
            "       'chlorides', 'free sulfur dioxide', 'total sulfur dioxide', 'density',\n",
            "       'pH', 'sulphates', 'alcohol'],\n",
            "      dtype='object')\n"
          ]
        }
      ]
    },
    {
      "cell_type": "code",
      "source": [
        "def normalize(data):\n",
        "    return MinMaxScaler().fit_transform(data)\n",
        "\n",
        "def standardize(data):\n",
        "    return StandardScaler().fit_transform(data)\n",
        "\n",
        "def transform_and_normalize(data):\n",
        "    data_std = standardize(data)\n",
        "    return normalize(data_std)\n",
        "\n",
        "def apply_pca(data, n_components=2):\n",
        "    return PCA(n_components=n_components).fit_transform(data)\n"
      ],
      "metadata": {
        "id": "2npPSVTukyFK"
      },
      "execution_count": 3,
      "outputs": []
    },
    {
      "cell_type": "code",
      "source": [
        "def evaluate_clustering(X, method_name, cluster_func, c_values=[3, 4, 5]):\n",
        "    results = []\n",
        "\n",
        "    for c in c_values:\n",
        "        try:\n",
        "            if method_name == 'MeanShift':\n",
        "                model = cluster_func()\n",
        "                labels = model.fit_predict(X)\n",
        "            else:\n",
        "                model = cluster_func(n_clusters=c)\n",
        "                labels = model.fit_predict(X)\n",
        "\n",
        "            sil = silhouette_score(X, labels)\n",
        "            ch = calinski_harabasz_score(X, labels)\n",
        "            db = davies_bouldin_score(X, labels)\n",
        "            results.append((sil, ch, db))\n",
        "        except Exception:\n",
        "            results.append(('NA', 'NA', 'NA'))\n",
        "\n",
        "    return results"
      ],
      "metadata": {
        "id": "QUBpXToYlFuz"
      },
      "execution_count": 4,
      "outputs": []
    },
    {
      "cell_type": "code",
      "source": [
        "preprocessing_methods = {\n",
        "    \"No Processing\": X,\n",
        "    \"Normalization\": normalize(X),\n",
        "    \"Transform\": standardize(X),\n",
        "    \"PCA\": apply_pca(X),\n",
        "    \"T+N\": transform_and_normalize(X),\n",
        "    \"T+N+PCA\": apply_pca(transform_and_normalize(X)),\n",
        "}\n",
        "\n",
        "c_values = [3, 4, 5]\n",
        "columns = ['c=3', 'c=4', 'c=5']\n",
        "index = pd.MultiIndex.from_product([['Silhouette', 'Calinski-Harabasz', 'Davies-Bouldins'], columns])\n",
        "\n",
        "def run_all(method_name, cluster_func):\n",
        "    all_results = []\n",
        "    for method, data in preprocessing_methods.items():\n",
        "        metrics = evaluate_clustering(data, method_name, cluster_func, c_values)\n",
        "        # Flatten results row-wise\n",
        "        row = []\n",
        "        for result in metrics:\n",
        "            row.extend(result)\n",
        "        all_results.append(pd.Series(row, index=index, name=method))\n",
        "    return pd.DataFrame(all_results)\n"
      ],
      "metadata": {
        "id": "InTLcTIdlHUo"
      },
      "execution_count": 5,
      "outputs": []
    },
    {
      "cell_type": "code",
      "source": [
        "# KMeans\n",
        "kmeans_table = run_all(\"KMeans\", lambda n_clusters: KMeans(n_clusters=n_clusters, n_init=10, random_state=42))\n",
        "\n",
        "# Hierarchical Clustering\n",
        "hierarchical_table = run_all(\"Hierarchical\", lambda n_clusters: AgglomerativeClustering(n_clusters=n_clusters))\n",
        "\n",
        "# Mean Shift Clustering\n",
        "meanshift_table = run_all(\"MeanShift\", lambda: MeanShift())"
      ],
      "metadata": {
        "id": "LDyEmvHKlJUd"
      },
      "execution_count": 6,
      "outputs": []
    },
    {
      "cell_type": "code",
      "source": [
        "print(\"=== K-Means Clustering ===\")\n",
        "print(kmeans_table)\n",
        "\n",
        "print(\"\\n=== Hierarchical Clustering ===\")\n",
        "print(hierarchical_table)\n",
        "\n",
        "print(\"\\n=== K-Means Shift Clustering ===\")\n",
        "print(meanshift_table)\n",
        "\n",
        "# Optionally export to CSV\n",
        "kmeans_table.to_csv(\"kmeans_results.csv\")\n",
        "hierarchical_table.to_csv(\"hierarchical_results.csv\")\n",
        "meanshift_table.to_csv(\"meanshift_results.csv\")\n"
      ],
      "metadata": {
        "colab": {
          "base_uri": "https://localhost:8080/"
        },
        "id": "gCA4btCPlPtV",
        "outputId": "ee484d02-e25a-41aa-f6c5-d1176d9f6c7f"
      },
      "execution_count": 14,
      "outputs": [
        {
          "output_type": "stream",
          "name": "stdout",
          "text": [
            "=== K-Means Clustering ===\n",
            "              Silhouette                        Calinski-Harabasz  \\\n",
            "                     c=3          c=4       c=5               c=3   \n",
            "No Processing   0.521346  3065.965093  0.667043          0.485921   \n",
            "Normalization   0.210986   414.756084  1.709923          0.207707   \n",
            "Transform       0.189204   313.326226  1.767265          0.171636   \n",
            "PCA             0.531346  3142.429076  0.650960          0.496786   \n",
            "T+N             0.210986   414.756084  1.709923          0.207707   \n",
            "T+N+PCA         0.398742  1215.762932  0.952948          0.386057   \n",
            "\n",
            "                                     Davies-Bouldins                         \n",
            "                       c=4       c=5             c=3          c=4       c=5  \n",
            "No Processing  3062.435662  0.714334        0.445863  3049.996421  0.754584  \n",
            "Normalization   386.037629  1.540367        0.198950   357.401322  1.502546  \n",
            "Transform       284.405220  1.657378        0.190139   291.688556  1.462505  \n",
            "PCA            3163.140540  0.699104        0.465940  3187.741711  0.729692  \n",
            "T+N             386.037629  1.540367        0.198950   357.401322  1.502546  \n",
            "T+N+PCA        1310.872023  0.888066        0.376849  1357.479218  0.816204  \n",
            "\n",
            "=== Hierarchical Clustering ===\n",
            "              Silhouette                        Calinski-Harabasz  \\\n",
            "                     c=3          c=4       c=5               c=3   \n",
            "No Processing   0.473985  2675.086249  0.662074          0.416022   \n",
            "Normalization   0.176891   365.890473  1.786656          0.175614   \n",
            "Transform       0.157747   265.069859  1.973112          0.171418   \n",
            "PCA             0.564344  2388.041810  0.609146          0.467624   \n",
            "T+N             0.176891   365.890473  1.786656          0.175614   \n",
            "T+N+PCA         0.371169  1061.145777  0.949685          0.319832   \n",
            "\n",
            "                                     Davies-Bouldins                         \n",
            "                       c=4       c=5             c=3          c=4       c=5  \n",
            "No Processing  2586.426364  0.784246        0.411019  2700.266327  0.798430  \n",
            "Normalization   329.756245  1.733953        0.142508   307.718410  1.709462  \n",
            "Transform       251.019684  1.664853        0.154476   232.021664  1.563835  \n",
            "PCA            2816.592014  0.686556        0.464938  2929.241417  0.782666  \n",
            "T+N             329.756245  1.733953        0.142508   307.718410  1.709462  \n",
            "T+N+PCA         989.096893  1.031122        0.317274   999.294808  0.914093  \n",
            "\n",
            "=== K-Means Shift Clustering ===\n",
            "              Silhouette                       Calinski-Harabasz              \\\n",
            "                     c=3         c=4       c=5               c=3         c=4   \n",
            "No Processing   0.596312  719.910592  0.370923          0.596312  719.910592   \n",
            "Normalization   0.200238   27.910679  0.981681          0.200238   27.910679   \n",
            "Transform       0.327693   44.620918  0.810633          0.327693   44.620918   \n",
            "PCA              0.59971  737.633148   0.36784           0.59971  737.633148   \n",
            "T+N             0.200238   27.910679  0.981681          0.200238   27.910679   \n",
            "T+N+PCA               NA          NA        NA                NA          NA   \n",
            "\n",
            "                        Davies-Bouldins                        \n",
            "                    c=5             c=3         c=4       c=5  \n",
            "No Processing  0.370923        0.596312  719.910592  0.370923  \n",
            "Normalization  0.981681        0.200238   27.910679  0.981681  \n",
            "Transform      0.810633        0.327693   44.620918  0.810633  \n",
            "PCA             0.36784         0.59971  737.633148   0.36784  \n",
            "T+N            0.981681        0.200238   27.910679  0.981681  \n",
            "T+N+PCA              NA              NA          NA        NA  \n"
          ]
        }
      ]
    },
    {
      "cell_type": "code",
      "source": [
        "def print_formatted_results(title, df):\n",
        "    print(f\"\\n=== {title} ===\\n\")\n",
        "\n",
        "    metrics = ['Silhouette', 'Calinski-Harabasz', 'Davies-Bouldins']\n",
        "    cluster_counts = ['c=3', 'c=4', 'c=5']\n",
        "\n",
        "    for metric in metrics:\n",
        "        print(metric)\n",
        "        print(f\"{'Parameters':<20} {'c=3':<12} {'c=4':<12} {'c=5':<12}\")\n",
        "        print(\"-\" * 60)\n",
        "        for index, row in df.iterrows():\n",
        "            values = []\n",
        "            for c in cluster_counts:\n",
        "                val = row.get((metric, c), 'NA')\n",
        "                if isinstance(val, (int, float)):\n",
        "                    values.append(f\"{val:<12.3f}\")\n",
        "                else:\n",
        "                    values.append(f\"{str(val):<12}\")\n",
        "            print(f\"{index:<20} {values[0]} {values[1]} {values[2]}\")\n",
        "        print()\n",
        "\n",
        "\n",
        "# Example usage:\n",
        "print_formatted_results(\"K-Means Clustering\", kmeans_table)\n",
        "print_formatted_results(\"Hierarchical Clustering\", hierarchical_table)\n",
        "print_formatted_results(\"K-Means Shift Clustering\", meanshift_table)"
      ],
      "metadata": {
        "colab": {
          "base_uri": "https://localhost:8080/"
        },
        "id": "lF-MG6SobOca",
        "outputId": "858b9078-f8c8-403c-d63c-a260efc3a3ea"
      },
      "execution_count": 20,
      "outputs": [
        {
          "output_type": "stream",
          "name": "stdout",
          "text": [
            "\n",
            "=== K-Means Clustering ===\n",
            "\n",
            "Silhouette\n",
            "Parameters           c=3          c=4          c=5         \n",
            "------------------------------------------------------------\n",
            "No Processing        0.521        3065.965     0.667       \n",
            "Normalization        0.211        414.756      1.710       \n",
            "Transform            0.189        313.326      1.767       \n",
            "PCA                  0.531        3142.429     0.651       \n",
            "T+N                  0.211        414.756      1.710       \n",
            "T+N+PCA              0.399        1215.763     0.953       \n",
            "\n",
            "Calinski-Harabasz\n",
            "Parameters           c=3          c=4          c=5         \n",
            "------------------------------------------------------------\n",
            "No Processing        0.486        3062.436     0.714       \n",
            "Normalization        0.208        386.038      1.540       \n",
            "Transform            0.172        284.405      1.657       \n",
            "PCA                  0.497        3163.141     0.699       \n",
            "T+N                  0.208        386.038      1.540       \n",
            "T+N+PCA              0.386        1310.872     0.888       \n",
            "\n",
            "Davies-Bouldins\n",
            "Parameters           c=3          c=4          c=5         \n",
            "------------------------------------------------------------\n",
            "No Processing        0.446        3049.996     0.755       \n",
            "Normalization        0.199        357.401      1.503       \n",
            "Transform            0.190        291.689      1.463       \n",
            "PCA                  0.466        3187.742     0.730       \n",
            "T+N                  0.199        357.401      1.503       \n",
            "T+N+PCA              0.377        1357.479     0.816       \n",
            "\n",
            "\n",
            "=== Hierarchical Clustering ===\n",
            "\n",
            "Silhouette\n",
            "Parameters           c=3          c=4          c=5         \n",
            "------------------------------------------------------------\n",
            "No Processing        0.474        2675.086     0.662       \n",
            "Normalization        0.177        365.890      1.787       \n",
            "Transform            0.158        265.070      1.973       \n",
            "PCA                  0.564        2388.042     0.609       \n",
            "T+N                  0.177        365.890      1.787       \n",
            "T+N+PCA              0.371        1061.146     0.950       \n",
            "\n",
            "Calinski-Harabasz\n",
            "Parameters           c=3          c=4          c=5         \n",
            "------------------------------------------------------------\n",
            "No Processing        0.416        2586.426     0.784       \n",
            "Normalization        0.176        329.756      1.734       \n",
            "Transform            0.171        251.020      1.665       \n",
            "PCA                  0.468        2816.592     0.687       \n",
            "T+N                  0.176        329.756      1.734       \n",
            "T+N+PCA              0.320        989.097      1.031       \n",
            "\n",
            "Davies-Bouldins\n",
            "Parameters           c=3          c=4          c=5         \n",
            "------------------------------------------------------------\n",
            "No Processing        0.411        2700.266     0.798       \n",
            "Normalization        0.143        307.718      1.709       \n",
            "Transform            0.154        232.022      1.564       \n",
            "PCA                  0.465        2929.241     0.783       \n",
            "T+N                  0.143        307.718      1.709       \n",
            "T+N+PCA              0.317        999.295      0.914       \n",
            "\n",
            "\n",
            "=== K-Means Shift Clustering ===\n",
            "\n",
            "Silhouette\n",
            "Parameters           c=3          c=4          c=5         \n",
            "------------------------------------------------------------\n",
            "No Processing        0.596        719.911      0.371       \n",
            "Normalization        0.200        27.911       0.982       \n",
            "Transform            0.328        44.621       0.811       \n",
            "PCA                  0.600        737.633      0.368       \n",
            "T+N                  0.200        27.911       0.982       \n",
            "T+N+PCA              NA           NA           NA          \n",
            "\n",
            "Calinski-Harabasz\n",
            "Parameters           c=3          c=4          c=5         \n",
            "------------------------------------------------------------\n",
            "No Processing        0.596        719.911      0.371       \n",
            "Normalization        0.200        27.911       0.982       \n",
            "Transform            0.328        44.621       0.811       \n",
            "PCA                  0.600        737.633      0.368       \n",
            "T+N                  0.200        27.911       0.982       \n",
            "T+N+PCA              NA           NA           NA          \n",
            "\n",
            "Davies-Bouldins\n",
            "Parameters           c=3          c=4          c=5         \n",
            "------------------------------------------------------------\n",
            "No Processing        0.596        719.911      0.371       \n",
            "Normalization        0.200        27.911       0.982       \n",
            "Transform            0.328        44.621       0.811       \n",
            "PCA                  0.600        737.633      0.368       \n",
            "T+N                  0.200        27.911       0.982       \n",
            "T+N+PCA              NA           NA           NA          \n",
            "\n"
          ]
        }
      ]
    },
    {
      "cell_type": "code",
      "source": [],
      "metadata": {
        "id": "b7pkr8F2Xk_P"
      },
      "execution_count": null,
      "outputs": []
    }
  ]
}